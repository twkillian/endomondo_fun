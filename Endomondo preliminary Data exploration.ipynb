{
 "cells": [
  {
   "cell_type": "code",
   "execution_count": 7,
   "metadata": {},
   "outputs": [],
   "source": [
    "import pandas as pd\n",
    "import json\n",
    "\n",
    "from pathlib import Path\n",
    "import os\n",
    "from tqdm import tqdm_notebook as tqdm\n",
    "\n",
    "import gzip\n",
    "import numpy as np\n",
    "from nltk.tokenize import sent_tokenize, word_tokenize\n",
    "from nltk.corpus import stopwords\n",
    "import re\n",
    "import random\n",
    "import collections\n",
    "import pickle\n",
    "from collections import defaultdict\n",
    "import time\n",
    "import matplotlib.pyplot as plt\n",
    "import datetime\n",
    "\n",
    "import multiprocessing\n",
    "from multiprocessing import Pool"
   ]
  },
  {
   "cell_type": "code",
   "execution_count": 20,
   "metadata": {},
   "outputs": [],
   "source": [
    "def calc_mse(avg, hrs):\n",
    "    dif = (np.array(hrs) - avg) ** 2\n",
    "    return np.mean(dif)\n",
    "\n",
    "def convert2datetime(unix_timestamp):\n",
    "    utc_time = time.gmtime(unix_timestamp)\n",
    "    l = time.localtime(unix_timestamp)\n",
    "    dt = datetime.datetime(*l[:6])\n",
    "    return dt\n",
    "\n",
    "def parse(path):\n",
    "    if 'gz' in path:\n",
    "        f = gzip.open(path, 'rb')\n",
    "    else:\n",
    "        f = open(path, 'rb')\n",
    "    for l in f.readlines():\n",
    "        yield(eval(l.decode('ascii')))\n",
    "        \n",
    "def normalize(inp, zMultiple=5):\n",
    "    mean, std = inp.mean(), inp.std()\n",
    "    diff = inp - mean\n",
    "    zScore = diff / std\n",
    "    return zScore * zMultiple"
   ]
  },
  {
   "cell_type": "code",
   "execution_count": 8,
   "metadata": {},
   "outputs": [
    {
     "name": "stdout",
     "output_type": "stream",
     "text": [
      "167783\n"
     ]
    }
   ],
   "source": [
    "# Load in the data\n",
    "path = Path(\"part2data/\")\n",
    "in_path = str(path / \"endomondoHR_proper.json\")\n",
    "def process(line):\n",
    "    return eval(line)\n",
    "pool = Pool(5)\n",
    "with open(in_path, 'r') as f:\n",
    "    data = pool.map(process, f)\n",
    "pool.close()\n",
    "pool.join()\n",
    "print(len(data))"
   ]
  },
  {
   "cell_type": "code",
   "execution_count": 9,
   "metadata": {},
   "outputs": [
    {
     "name": "stdout",
     "output_type": "stream",
     "text": [
      "167783\n",
      "1059\n"
     ]
    }
   ],
   "source": [
    "data2 = data\n",
    "print(len(data2))\n",
    "user2workout = defaultdict(list)\n",
    "idxMap={}\n",
    "for idx in range(len(data2)):\n",
    "    d = data2[idx]\n",
    "    wid = d['id']\n",
    "    uid = d['userId']\n",
    "    user2workout[uid].append(wid)\n",
    "    idxMap[wid] = idx\n",
    "print(len(user2workout))"
   ]
  },
  {
   "cell_type": "code",
   "execution_count": 12,
   "metadata": {},
   "outputs": [],
   "source": [
    "# sort a user's workout based on time\n",
    "for u in user2workout:\n",
    "    workout = user2workout[u]\n",
    "    dts = [(convert2datetime(data2[idxMap[wid]]['timestamp'][0]), wid) for wid in workout]\n",
    "    dts = sorted(dts, key=lambda x:x[0])\n",
    "    new_workout = [x[1] for x in dts] # ascending\n",
    "    user2workout[u] = new_workout"
   ]
  },
  {
   "cell_type": "code",
   "execution_count": 13,
   "metadata": {},
   "outputs": [
    {
     "name": "stdout",
     "output_type": "stream",
     "text": [
      "956\n"
     ]
    }
   ],
   "source": [
    "# keep 10 core\n",
    "user2workout_core = defaultdict(list)\n",
    "for u in user2workout:\n",
    "    workout = user2workout[u]\n",
    "    if len(workout) >= 10:\n",
    "        user2workout_core[u] = workout\n",
    "print(len(user2workout_core))"
   ]
  },
  {
   "cell_type": "code",
   "execution_count": 14,
   "metadata": {},
   "outputs": [
    {
     "name": "stdout",
     "output_type": "stream",
     "text": [
      "1.4857973757216916\n"
     ]
    }
   ],
   "source": [
    "# Build timelines\n",
    "times = defaultdict(float)\n",
    "user_times = defaultdict(float)\n",
    "for u in user2workout_core:\n",
    "    workout = user2workout_core[u]\n",
    "    tt = []\n",
    "    for wid in workout:\n",
    "        idx = idxMap[wid]\n",
    "        d = data2[idx]\n",
    "        ts = d['timestamp']\n",
    "        times[wid] = (ts[-1] - ts[0]) / 3600\n",
    "        tt.append((ts[-1] - ts[0])/3600)\n",
    "    tt = np.array(tt).mean()\n",
    "    user_times[u] = tt\n",
    "    \n",
    "vals = np.array(list(times.values()))\n",
    "print(vals.mean())"
   ]
  },
  {
   "cell_type": "code",
   "execution_count": 19,
   "metadata": {},
   "outputs": [
    {
     "name": "stdout",
     "output_type": "stream",
     "text": [
      "166417\n"
     ]
    }
   ],
   "source": [
    "# contextMap stores all workouts previous to current\n",
    "contextMap = {}\n",
    "for u in user2workout_core:\n",
    "    wids = user2workout_core[u]\n",
    "    indices = [idxMap[wid] for wid in wids]\n",
    "    \n",
    "    # build start time\n",
    "    start_times = []\n",
    "    for idx in indices:\n",
    "        start_time = data[idx]['timestamp'][0]\n",
    "        start_times.append(start_time)\n",
    "        \n",
    "    # build context\n",
    "    for i in range(1, len(wids)):\n",
    "        wid = wids[i]\n",
    "        since_last = (start_times[i] - start_times[i-1]) / (3600*24)\n",
    "        since_begin = (start_times[i] - start_times[0]) / (3600*24)\n",
    "        contextMap[wid] = (since_last, since_begin, wids[:i])\n",
    "\n",
    "print(len(contextMap))"
   ]
  },
  {
   "cell_type": "code",
   "execution_count": 21,
   "metadata": {},
   "outputs": [],
   "source": [
    "# Normalize since_last and begin\n",
    "since_last_array = []\n",
    "since_begin_array = []\n",
    "for wid in contextMap:\n",
    "    t = contextMap[wid]\n",
    "    since_last_array.append(t[0])\n",
    "    since_begin_array.append(t[1])\n",
    "    \n",
    "since_last_array = np.array(since_last_array)\n",
    "since_begin_array = np.array(since_begin_array)\n",
    "\n",
    "since_last_array2 = normalize(since_last_array)\n",
    "since_begin_array2 = normalize(since_begin_array)"
   ]
  },
  {
   "cell_type": "code",
   "execution_count": 22,
   "metadata": {},
   "outputs": [],
   "source": [
    "# Put normalized since_last and begin into contextMap\n",
    "i = 0\n",
    "contextMap2 = {}\n",
    "for wid in contextMap:\n",
    "    t = contextMap[wid]\n",
    "    t0 = since_last_array2[i]\n",
    "    t1 = since_begin_array2[i]\n",
    "    i += 1\n",
    "    contextMap2[wid] = (t0, t1, t[2])\n",
    "        "
   ]
  },
  {
   "cell_type": "code",
   "execution_count": 24,
   "metadata": {},
   "outputs": [
    {
     "name": "stdout",
     "output_type": "stream",
     "text": [
      "train/valid/test = 132755/16604/17058\n"
     ]
    }
   ],
   "source": [
    "# split whole dataset, leave latest into valid and test\n",
    "train, valid, test = [], [], []\n",
    "for u in user2workout_core:\n",
    "    indices = user2workout_core[u][1:]  # remove the first workout since it has no context...\n",
    "    l = len(indices)\n",
    "    # split in ascending order\n",
    "    train.extend(indices[:int(0.8*l)])\n",
    "    valid.extend(indices[int(0.8*l):int(0.9*l)])\n",
    "    test.extend(indices[int(0.9*l):])\n",
    "    \n",
    "print(\"train/valid/test = {}/{}/{}\".format(len(train), len(valid), len(test)))"
   ]
  },
  {
   "cell_type": "code",
   "execution_count": 27,
   "metadata": {},
   "outputs": [],
   "source": [
    "with open('endomondoHR_proper_temporal_dataset.pkl', 'wb') as f:\n",
    "    pickle.dump((train,valid,test,contextMap2), f)"
   ]
  },
  {
   "cell_type": "code",
   "execution_count": 54,
   "metadata": {},
   "outputs": [
    {
     "data": {
      "text/plain": [
       "(4.756423611111111, 4.756423611111111, [323000056])"
      ]
     },
     "execution_count": 54,
     "metadata": {},
     "output_type": "execute_result"
    }
   ],
   "source": [
    "contextMap[train[0]]"
   ]
  },
  {
   "cell_type": "code",
   "execution_count": 28,
   "metadata": {},
   "outputs": [],
   "source": [
    "df = pd.DataFrame(data)"
   ]
  },
  {
   "cell_type": "code",
   "execution_count": 29,
   "metadata": {},
   "outputs": [
    {
     "data": {
      "text/html": [
       "<div>\n",
       "<style scoped>\n",
       "    .dataframe tbody tr th:only-of-type {\n",
       "        vertical-align: middle;\n",
       "    }\n",
       "\n",
       "    .dataframe tbody tr th {\n",
       "        vertical-align: top;\n",
       "    }\n",
       "\n",
       "    .dataframe thead th {\n",
       "        text-align: right;\n",
       "    }\n",
       "</style>\n",
       "<table border=\"1\" class=\"dataframe\">\n",
       "  <thead>\n",
       "    <tr style=\"text-align: right;\">\n",
       "      <th></th>\n",
       "      <th>longitude</th>\n",
       "      <th>altitude</th>\n",
       "      <th>latitude</th>\n",
       "      <th>sport</th>\n",
       "      <th>id</th>\n",
       "      <th>heart_rate</th>\n",
       "      <th>gender</th>\n",
       "      <th>timestamp</th>\n",
       "      <th>url</th>\n",
       "      <th>userId</th>\n",
       "      <th>speed</th>\n",
       "    </tr>\n",
       "  </thead>\n",
       "  <tbody>\n",
       "    <tr>\n",
       "      <td>0</td>\n",
       "      <td>[24.64977040886879, 24.65014273300767, 24.6509...</td>\n",
       "      <td>[41.6, 40.6, 40.6, 38.4, 37.0, 34.0, 34.0, 34....</td>\n",
       "      <td>[60.173348765820265, 60.173239801079035, 60.17...</td>\n",
       "      <td>bike</td>\n",
       "      <td>396826535</td>\n",
       "      <td>[100, 111, 120, 119, 120, 116, 125, 128, 131, ...</td>\n",
       "      <td>male</td>\n",
       "      <td>[1408898746, 1408898754, 1408898765, 140889877...</td>\n",
       "      <td>https://www.endomondo.com/users/10921915/worko...</td>\n",
       "      <td>10921915</td>\n",
       "      <td>[6.8652, 16.4736, 19.1988, 20.4804, 31.3956, 3...</td>\n",
       "    </tr>\n",
       "    <tr>\n",
       "      <td>1</td>\n",
       "      <td>[24.649855233728886, 24.65015547350049, 24.650...</td>\n",
       "      <td>[38.4, 39.0, 39.0, 38.2, 36.8, 36.8, 36.8, 35....</td>\n",
       "      <td>[60.173247596248984, 60.17320962622762, 60.172...</td>\n",
       "      <td>bike</td>\n",
       "      <td>392337038</td>\n",
       "      <td>[100, 105, 111, 110, 108, 115, 126, 130, 132, ...</td>\n",
       "      <td>male</td>\n",
       "      <td>[1408221682, 1408221687, 1408221699, 140822170...</td>\n",
       "      <td>https://www.endomondo.com/users/10921915/worko...</td>\n",
       "      <td>10921915</td>\n",
       "      <td>[9.0792, 13.284, 15.9336, 10.9476, 16.1676, 30...</td>\n",
       "    </tr>\n",
       "    <tr>\n",
       "      <td>2</td>\n",
       "      <td>[24.64995657093823, 24.650197718292475, 24.651...</td>\n",
       "      <td>[76.4, 73.2, 72.4, 73.0, 73.0, 70.8, 69.2, 69....</td>\n",
       "      <td>[60.17326201312244, 60.173205351457, 60.172969...</td>\n",
       "      <td>bike</td>\n",
       "      <td>389643739</td>\n",
       "      <td>[99, 105, 113, 110, 109, 110, 108, 121, 116, 1...</td>\n",
       "      <td>male</td>\n",
       "      <td>[1407858459, 1407858466, 1407858478, 140785849...</td>\n",
       "      <td>https://www.endomondo.com/users/10921915/worko...</td>\n",
       "      <td>10921915</td>\n",
       "      <td>[4.0464, 13.8204, 16.9776, 19.9404, 28.7856, 3...</td>\n",
       "    </tr>\n",
       "    <tr>\n",
       "      <td>3</td>\n",
       "      <td>[24.649874344468117, 24.650242729112506, 24.65...</td>\n",
       "      <td>[28.6, 29.4, 29.4, 29.4, 28.0, 27.0, 25.2, 23....</td>\n",
       "      <td>[60.173286236822605, 60.17323946580291, 60.173...</td>\n",
       "      <td>bike</td>\n",
       "      <td>386729739</td>\n",
       "      <td>[99, 105, 113, 109, 112, 116, 116, 114, 114, 1...</td>\n",
       "      <td>male</td>\n",
       "      <td>[1407432042, 1407432048, 1407432056, 140743206...</td>\n",
       "      <td>https://www.endomondo.com/users/10921915/worko...</td>\n",
       "      <td>10921915</td>\n",
       "      <td>[7.4988, 15.4008, 17.8668, 21.5712, 24.1416, 3...</td>\n",
       "    </tr>\n",
       "    <tr>\n",
       "      <td>4</td>\n",
       "      <td>[24.64979832060635, 24.64992195367813, 24.6500...</td>\n",
       "      <td>[32.0, 32.0, 32.0, 35.8, 36.2, 36.2, 36.2, 36....</td>\n",
       "      <td>[60.17329327762127, 60.17327332869172, 60.1732...</td>\n",
       "      <td>bike (transport)</td>\n",
       "      <td>383186560</td>\n",
       "      <td>[110, 113, 114, 116, 123, 126, 129, 135, 137, ...</td>\n",
       "      <td>male</td>\n",
       "      <td>[1406909434, 1406909436, 1406909437, 140690943...</td>\n",
       "      <td>https://www.endomondo.com/users/10921915/worko...</td>\n",
       "      <td>10921915</td>\n",
       "      <td>NaN</td>\n",
       "    </tr>\n",
       "  </tbody>\n",
       "</table>\n",
       "</div>"
      ],
      "text/plain": [
       "                                           longitude  \\\n",
       "0  [24.64977040886879, 24.65014273300767, 24.6509...   \n",
       "1  [24.649855233728886, 24.65015547350049, 24.650...   \n",
       "2  [24.64995657093823, 24.650197718292475, 24.651...   \n",
       "3  [24.649874344468117, 24.650242729112506, 24.65...   \n",
       "4  [24.64979832060635, 24.64992195367813, 24.6500...   \n",
       "\n",
       "                                            altitude  \\\n",
       "0  [41.6, 40.6, 40.6, 38.4, 37.0, 34.0, 34.0, 34....   \n",
       "1  [38.4, 39.0, 39.0, 38.2, 36.8, 36.8, 36.8, 35....   \n",
       "2  [76.4, 73.2, 72.4, 73.0, 73.0, 70.8, 69.2, 69....   \n",
       "3  [28.6, 29.4, 29.4, 29.4, 28.0, 27.0, 25.2, 23....   \n",
       "4  [32.0, 32.0, 32.0, 35.8, 36.2, 36.2, 36.2, 36....   \n",
       "\n",
       "                                            latitude             sport  \\\n",
       "0  [60.173348765820265, 60.173239801079035, 60.17...              bike   \n",
       "1  [60.173247596248984, 60.17320962622762, 60.172...              bike   \n",
       "2  [60.17326201312244, 60.173205351457, 60.172969...              bike   \n",
       "3  [60.173286236822605, 60.17323946580291, 60.173...              bike   \n",
       "4  [60.17329327762127, 60.17327332869172, 60.1732...  bike (transport)   \n",
       "\n",
       "          id                                         heart_rate gender  \\\n",
       "0  396826535  [100, 111, 120, 119, 120, 116, 125, 128, 131, ...   male   \n",
       "1  392337038  [100, 105, 111, 110, 108, 115, 126, 130, 132, ...   male   \n",
       "2  389643739  [99, 105, 113, 110, 109, 110, 108, 121, 116, 1...   male   \n",
       "3  386729739  [99, 105, 113, 109, 112, 116, 116, 114, 114, 1...   male   \n",
       "4  383186560  [110, 113, 114, 116, 123, 126, 129, 135, 137, ...   male   \n",
       "\n",
       "                                           timestamp  \\\n",
       "0  [1408898746, 1408898754, 1408898765, 140889877...   \n",
       "1  [1408221682, 1408221687, 1408221699, 140822170...   \n",
       "2  [1407858459, 1407858466, 1407858478, 140785849...   \n",
       "3  [1407432042, 1407432048, 1407432056, 140743206...   \n",
       "4  [1406909434, 1406909436, 1406909437, 140690943...   \n",
       "\n",
       "                                                 url    userId  \\\n",
       "0  https://www.endomondo.com/users/10921915/worko...  10921915   \n",
       "1  https://www.endomondo.com/users/10921915/worko...  10921915   \n",
       "2  https://www.endomondo.com/users/10921915/worko...  10921915   \n",
       "3  https://www.endomondo.com/users/10921915/worko...  10921915   \n",
       "4  https://www.endomondo.com/users/10921915/worko...  10921915   \n",
       "\n",
       "                                               speed  \n",
       "0  [6.8652, 16.4736, 19.1988, 20.4804, 31.3956, 3...  \n",
       "1  [9.0792, 13.284, 15.9336, 10.9476, 16.1676, 30...  \n",
       "2  [4.0464, 13.8204, 16.9776, 19.9404, 28.7856, 3...  \n",
       "3  [7.4988, 15.4008, 17.8668, 21.5712, 24.1416, 3...  \n",
       "4                                                NaN  "
      ]
     },
     "execution_count": 29,
     "metadata": {},
     "output_type": "execute_result"
    }
   ],
   "source": [
    "df.head()"
   ]
  },
  {
   "cell_type": "code",
   "execution_count": 37,
   "metadata": {},
   "outputs": [
    {
     "data": {
      "image/png": "[encoded data removed]",
      "text/plain": [
       "<Figure size 432x288 with 1 Axes>"
      ]
     },
     "metadata": {
      "needs_background": "light"
     },
     "output_type": "display_data"
    },
    {
     "name": "stdout",
     "output_type": "stream",
     "text": [
      "On average, each user has 158.43531633616618 workouts, with a median of 100.0\n"
     ]
    },
    {
     "data": {
      "image/png": "[encoded data removed]",
      "text/plain": [
       "<Figure size 432x288 with 1 Axes>"
      ]
     },
     "metadata": {
      "needs_background": "light"
     },
     "output_type": "display_data"
    }
   ],
   "source": [
    "user_counts = df.groupby('userId').heart_rate.count()\n",
    "plt.hist(user_counts.values, bins=25)\n",
    "plt.xlabel(\"Number of workouts\")\n",
    "plt.ylabel(\"Number of users\")\n",
    "plt.show()\n",
    "print(f\"On average, each user has {user_counts.mean()} workouts, with a median of {user_counts.median()}\")\n",
    "plt.hist(user_counts.values, bins=25)\n",
    "plt.xlim([0, 350])\n",
    "plt.xlabel(\"Number of workouts\")\n",
    "plt.ylabel(\"Number of users\")\n",
    "plt.show()"
   ]
  },
  {
   "cell_type": "code",
   "execution_count": 38,
   "metadata": {},
   "outputs": [
    {
     "data": {
      "text/plain": [
       "1"
      ]
     },
     "execution_count": 38,
     "metadata": {},
     "output_type": "execute_result"
    }
   ],
   "source": [
    "user_counts.min()"
   ]
  },
  {
   "cell_type": "code",
   "execution_count": 40,
   "metadata": {},
   "outputs": [],
   "source": [
    "import seaborn as sns"
   ]
  },
  {
   "cell_type": "code",
   "execution_count": 41,
   "metadata": {},
   "outputs": [],
   "source": [
    "sport_counts = df.groupby('sport').userId.count()"
   ]
  },
  {
   "cell_type": "code",
   "execution_count": 43,
   "metadata": {},
   "outputs": [
    {
     "data": {
      "text/plain": [
       "Index(['aerobics', 'badminton', 'basketball', 'bike', 'bike (transport)',\n",
       "       'circuit training', 'climbing', 'core stability training',\n",
       "       'cross-country skiing', 'downhill skiing', 'elliptical',\n",
       "       'fitness walking', 'golf', 'gymnastics', 'hiking', 'horseback riding',\n",
       "       'indoor cycling', 'kayaking', 'kite surfing', 'martial arts',\n",
       "       'mountain bike', 'orienteering', 'pilates', 'roller skiing', 'rowing',\n",
       "       'rugby', 'run', 'sailing', 'skate', 'snowboarding', 'snowshoeing',\n",
       "       'soccer', 'squash', 'stair climing', 'swimming', 'table tennis',\n",
       "       'tennis', 'treadmill running', 'treadmill walking', 'walk',\n",
       "       'weight training', 'windsurfing', 'yoga'],\n",
       "      dtype='object', name='sport')"
      ]
     },
     "execution_count": 43,
     "metadata": {},
     "output_type": "execute_result"
    }
   ],
   "source": [
    "sport_counts.index"
   ]
  },
  {
   "cell_type": "code",
   "execution_count": 52,
   "metadata": {},
   "outputs": [
    {
     "data": {
      "image/png": "[encoded data removed]",
      "text/plain": [
       "<Figure size 720x576 with 1 Axes>"
      ]
     },
     "metadata": {
      "needs_background": "light"
     },
     "output_type": "display_data"
    }
   ],
   "source": [
    "idxs = []\n",
    "counts = []\n",
    "for idx in sport_counts.index:\n",
    "    idxs.append(idx)\n",
    "    counts.append(sport_counts[idx])\n",
    "plt.figure(figsize=(10,8))\n",
    "sns.barplot(x=idxs, y=counts)\n",
    "ax = plt.gca()\n",
    "for label in ax.get_xticklabels():\n",
    "    label.set_rotation(90)\n",
    "plt.show()"
   ]
  },
  {
   "cell_type": "code",
   "execution_count": 51,
   "metadata": {},
   "outputs": [
    {
     "data": {
      "image/png": "[encoded data removed]",
      "text/plain": [
       "<Figure size 720x576 with 1 Axes>"
      ]
     },
     "metadata": {
      "needs_background": "light"
     },
     "output_type": "display_data"
    }
   ],
   "source": [
    "idxs = []\n",
    "counts = []\n",
    "for idx in sport_counts.index:\n",
    "    if sport_counts[idx] > 250:\n",
    "        idxs.append(idx)\n",
    "        counts.append(sport_counts[idx])\n",
    "plt.figure(figsize=(10,8))\n",
    "sns.barplot(x=idxs, y=counts)\n",
    "ax = plt.gca()\n",
    "for label in ax.get_xticklabels():\n",
    "    label.set_rotation(90)\n",
    "plt.show()"
   ]
  },
  {
   "cell_type": "code",
   "execution_count": 59,
   "metadata": {},
   "outputs": [
    {
     "data": {
      "text/plain": [
       "gender\n",
       "female       9881\n",
       "male       156717\n",
       "unknown      1185\n",
       "Name: userId, dtype: int64"
      ]
     },
     "execution_count": 59,
     "metadata": {},
     "output_type": "execute_result"
    }
   ],
   "source": [
    "genders = df.groupby('gender').userId.count()\n",
    "genders"
   ]
  },
  {
   "cell_type": "code",
   "execution_count": 61,
   "metadata": {},
   "outputs": [
    {
     "data": {
      "text/plain": [
       "0.05931043589959063"
      ]
     },
     "execution_count": 61,
     "metadata": {},
     "output_type": "execute_result"
    }
   ],
   "source": [
    "genders['female'] / genders[['female','male']].sum()"
   ]
  },
  {
   "cell_type": "code",
   "execution_count": 4,
   "metadata": {},
   "outputs": [
    {
     "ename": "ValueError",
     "evalue": "Expected object or value",
     "output_type": "error",
     "traceback": [
      "\u001b[0;31m---------------------------------------------------------------------------\u001b[0m",
      "\u001b[0;31mValueError\u001b[0m                                Traceback (most recent call last)",
      "\u001b[0;32m<ipython-input-4-94c99e443e80>\u001b[0m in \u001b[0;36m<module>\u001b[0;34m\u001b[0m\n\u001b[0;32m----> 1\u001b[0;31m \u001b[0mendo_data\u001b[0m \u001b[0;34m=\u001b[0m \u001b[0mpd\u001b[0m\u001b[0;34m.\u001b[0m\u001b[0mread_json\u001b[0m\u001b[0;34m(\u001b[0m\u001b[0;34m'part2data/endomondoHR_proper.json'\u001b[0m\u001b[0;34m,\u001b[0m \u001b[0mlines\u001b[0m\u001b[0;34m=\u001b[0m\u001b[0;32mTrue\u001b[0m\u001b[0;34m)\u001b[0m\u001b[0;34m\u001b[0m\u001b[0;34m\u001b[0m\u001b[0m\n\u001b[0m",
      "\u001b[0;32m~/opt/anaconda3/lib/python3.7/site-packages/pandas/io/json/_json.py\u001b[0m in \u001b[0;36mread_json\u001b[0;34m(path_or_buf, orient, typ, dtype, convert_axes, convert_dates, keep_default_dates, numpy, precise_float, date_unit, encoding, lines, chunksize, compression)\u001b[0m\n\u001b[1;32m    590\u001b[0m         \u001b[0;32mreturn\u001b[0m \u001b[0mjson_reader\u001b[0m\u001b[0;34m\u001b[0m\u001b[0;34m\u001b[0m\u001b[0m\n\u001b[1;32m    591\u001b[0m \u001b[0;34m\u001b[0m\u001b[0m\n\u001b[0;32m--> 592\u001b[0;31m     \u001b[0mresult\u001b[0m \u001b[0;34m=\u001b[0m \u001b[0mjson_reader\u001b[0m\u001b[0;34m.\u001b[0m\u001b[0mread\u001b[0m\u001b[0;34m(\u001b[0m\u001b[0;34m)\u001b[0m\u001b[0;34m\u001b[0m\u001b[0;34m\u001b[0m\u001b[0m\n\u001b[0m\u001b[1;32m    593\u001b[0m     \u001b[0;32mif\u001b[0m \u001b[0mshould_close\u001b[0m\u001b[0;34m:\u001b[0m\u001b[0;34m\u001b[0m\u001b[0;34m\u001b[0m\u001b[0m\n\u001b[1;32m    594\u001b[0m         \u001b[0;32mtry\u001b[0m\u001b[0;34m:\u001b[0m\u001b[0;34m\u001b[0m\u001b[0;34m\u001b[0m\u001b[0m\n",
      "\u001b[0;32m~/opt/anaconda3/lib/python3.7/site-packages/pandas/io/json/_json.py\u001b[0m in \u001b[0;36mread\u001b[0;34m(self)\u001b[0m\n\u001b[1;32m    713\u001b[0m         \u001b[0;32melif\u001b[0m \u001b[0mself\u001b[0m\u001b[0;34m.\u001b[0m\u001b[0mlines\u001b[0m\u001b[0;34m:\u001b[0m\u001b[0;34m\u001b[0m\u001b[0;34m\u001b[0m\u001b[0m\n\u001b[1;32m    714\u001b[0m             \u001b[0mdata\u001b[0m \u001b[0;34m=\u001b[0m \u001b[0mensure_str\u001b[0m\u001b[0;34m(\u001b[0m\u001b[0mself\u001b[0m\u001b[0;34m.\u001b[0m\u001b[0mdata\u001b[0m\u001b[0;34m)\u001b[0m\u001b[0;34m\u001b[0m\u001b[0;34m\u001b[0m\u001b[0m\n\u001b[0;32m--> 715\u001b[0;31m             \u001b[0mobj\u001b[0m \u001b[0;34m=\u001b[0m \u001b[0mself\u001b[0m\u001b[0;34m.\u001b[0m\u001b[0m_get_object_parser\u001b[0m\u001b[0;34m(\u001b[0m\u001b[0mself\u001b[0m\u001b[0;34m.\u001b[0m\u001b[0m_combine_lines\u001b[0m\u001b[0;34m(\u001b[0m\u001b[0mdata\u001b[0m\u001b[0;34m.\u001b[0m\u001b[0msplit\u001b[0m\u001b[0;34m(\u001b[0m\u001b[0;34m\"\\n\"\u001b[0m\u001b[0;34m)\u001b[0m\u001b[0;34m)\u001b[0m\u001b[0;34m)\u001b[0m\u001b[0;34m\u001b[0m\u001b[0;34m\u001b[0m\u001b[0m\n\u001b[0m\u001b[1;32m    716\u001b[0m         \u001b[0;32melse\u001b[0m\u001b[0;34m:\u001b[0m\u001b[0;34m\u001b[0m\u001b[0;34m\u001b[0m\u001b[0m\n\u001b[1;32m    717\u001b[0m             \u001b[0mobj\u001b[0m \u001b[0;34m=\u001b[0m \u001b[0mself\u001b[0m\u001b[0;34m.\u001b[0m\u001b[0m_get_object_parser\u001b[0m\u001b[0;34m(\u001b[0m\u001b[0mself\u001b[0m\u001b[0;34m.\u001b[0m\u001b[0mdata\u001b[0m\u001b[0;34m)\u001b[0m\u001b[0;34m\u001b[0m\u001b[0;34m\u001b[0m\u001b[0m\n",
      "\u001b[0;32m~/opt/anaconda3/lib/python3.7/site-packages/pandas/io/json/_json.py\u001b[0m in \u001b[0;36m_get_object_parser\u001b[0;34m(self, json)\u001b[0m\n\u001b[1;32m    737\u001b[0m         \u001b[0mobj\u001b[0m \u001b[0;34m=\u001b[0m \u001b[0;32mNone\u001b[0m\u001b[0;34m\u001b[0m\u001b[0;34m\u001b[0m\u001b[0m\n\u001b[1;32m    738\u001b[0m         \u001b[0;32mif\u001b[0m \u001b[0mtyp\u001b[0m \u001b[0;34m==\u001b[0m \u001b[0;34m\"frame\"\u001b[0m\u001b[0;34m:\u001b[0m\u001b[0;34m\u001b[0m\u001b[0;34m\u001b[0m\u001b[0m\n\u001b[0;32m--> 739\u001b[0;31m             \u001b[0mobj\u001b[0m \u001b[0;34m=\u001b[0m \u001b[0mFrameParser\u001b[0m\u001b[0;34m(\u001b[0m\u001b[0mjson\u001b[0m\u001b[0;34m,\u001b[0m \u001b[0;34m**\u001b[0m\u001b[0mkwargs\u001b[0m\u001b[0;34m)\u001b[0m\u001b[0;34m.\u001b[0m\u001b[0mparse\u001b[0m\u001b[0;34m(\u001b[0m\u001b[0;34m)\u001b[0m\u001b[0;34m\u001b[0m\u001b[0;34m\u001b[0m\u001b[0m\n\u001b[0m\u001b[1;32m    740\u001b[0m \u001b[0;34m\u001b[0m\u001b[0m\n\u001b[1;32m    741\u001b[0m         \u001b[0;32mif\u001b[0m \u001b[0mtyp\u001b[0m \u001b[0;34m==\u001b[0m \u001b[0;34m\"series\"\u001b[0m \u001b[0;32mor\u001b[0m \u001b[0mobj\u001b[0m \u001b[0;32mis\u001b[0m \u001b[0;32mNone\u001b[0m\u001b[0;34m:\u001b[0m\u001b[0;34m\u001b[0m\u001b[0;34m\u001b[0m\u001b[0m\n",
      "\u001b[0;32m~/opt/anaconda3/lib/python3.7/site-packages/pandas/io/json/_json.py\u001b[0m in \u001b[0;36mparse\u001b[0;34m(self)\u001b[0m\n\u001b[1;32m    847\u001b[0m \u001b[0;34m\u001b[0m\u001b[0m\n\u001b[1;32m    848\u001b[0m         \u001b[0;32melse\u001b[0m\u001b[0;34m:\u001b[0m\u001b[0;34m\u001b[0m\u001b[0;34m\u001b[0m\u001b[0m\n\u001b[0;32m--> 849\u001b[0;31m             \u001b[0mself\u001b[0m\u001b[0;34m.\u001b[0m\u001b[0m_parse_no_numpy\u001b[0m\u001b[0;34m(\u001b[0m\u001b[0;34m)\u001b[0m\u001b[0;34m\u001b[0m\u001b[0;34m\u001b[0m\u001b[0m\n\u001b[0m\u001b[1;32m    850\u001b[0m \u001b[0;34m\u001b[0m\u001b[0m\n\u001b[1;32m    851\u001b[0m         \u001b[0;32mif\u001b[0m \u001b[0mself\u001b[0m\u001b[0;34m.\u001b[0m\u001b[0mobj\u001b[0m \u001b[0;32mis\u001b[0m \u001b[0;32mNone\u001b[0m\u001b[0;34m:\u001b[0m\u001b[0;34m\u001b[0m\u001b[0;34m\u001b[0m\u001b[0m\n",
      "\u001b[0;32m~/opt/anaconda3/lib/python3.7/site-packages/pandas/io/json/_json.py\u001b[0m in \u001b[0;36m_parse_no_numpy\u001b[0;34m(self)\u001b[0m\n\u001b[1;32m   1091\u001b[0m         \u001b[0;32mif\u001b[0m \u001b[0morient\u001b[0m \u001b[0;34m==\u001b[0m \u001b[0;34m\"columns\"\u001b[0m\u001b[0;34m:\u001b[0m\u001b[0;34m\u001b[0m\u001b[0;34m\u001b[0m\u001b[0m\n\u001b[1;32m   1092\u001b[0m             self.obj = DataFrame(\n\u001b[0;32m-> 1093\u001b[0;31m                 \u001b[0mloads\u001b[0m\u001b[0;34m(\u001b[0m\u001b[0mjson\u001b[0m\u001b[0;34m,\u001b[0m \u001b[0mprecise_float\u001b[0m\u001b[0;34m=\u001b[0m\u001b[0mself\u001b[0m\u001b[0;34m.\u001b[0m\u001b[0mprecise_float\u001b[0m\u001b[0;34m)\u001b[0m\u001b[0;34m,\u001b[0m \u001b[0mdtype\u001b[0m\u001b[0;34m=\u001b[0m\u001b[0;32mNone\u001b[0m\u001b[0;34m\u001b[0m\u001b[0;34m\u001b[0m\u001b[0m\n\u001b[0m\u001b[1;32m   1094\u001b[0m             )\n\u001b[1;32m   1095\u001b[0m         \u001b[0;32melif\u001b[0m \u001b[0morient\u001b[0m \u001b[0;34m==\u001b[0m \u001b[0;34m\"split\"\u001b[0m\u001b[0;34m:\u001b[0m\u001b[0;34m\u001b[0m\u001b[0;34m\u001b[0m\u001b[0m\n",
      "\u001b[0;31mValueError\u001b[0m: Expected object or value"
     ]
    }
   ],
   "source": [
    "endo_data = pd.read_json('part2data/endomondoHR_proper.json', lines=True)a"
   ]
  },
  {
   "cell_type": "code",
   "execution_count": null,
   "metadata": {},
   "outputs": [],
   "source": [
    "endo_data.head()"
   ]
  },
  {
   "cell_type": "code",
   "execution_count": null,
   "metadata": {},
   "outputs": [],
   "source": [
    "endo_data.columns"
   ]
  },
  {
   "cell_type": "code",
   "execution_count": null,
   "metadata": {},
   "outputs": [],
   "source": []
  }
 ],
 "metadata": {
  "kernelspec": {
   "display_name": "Python 3",
   "language": "python",
   "name": "python3"
  },
  "language_info": {
   "codemirror_mode": {
    "name": "ipython",
    "version": 3
   },
   "file_extension": ".py",
   "mimetype": "text/x-python",
   "name": "python",
   "nbconvert_exporter": "python",
   "pygments_lexer": "ipython3",
   "version": "3.7.4"
  }
 },
 "nbformat": 4,
 "nbformat_minor": 2
}
